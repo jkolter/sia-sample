{
 "cells": [
  {
   "cell_type": "markdown",
   "metadata": {
    "slideshow": {
     "slide_type": "slide"
    }
   },
   "source": [
    "# Spark in Motion\n",
    "\n",
    "## Unit 1: AN Introduction to Apache Spark\n",
    "\n",
    "### Module 6: Using RDDs Part 2: Transformations and Actions\n",
    "\n",
    "<br>\n",
    "#### with Jason Kolter"
   ]
  },
  {
   "cell_type": "markdown",
   "metadata": {
    "slideshow": {
     "slide_type": "slide"
    }
   },
   "source": [
    "## Transformations \n",
    "<img style=\"margin:0px auto;display:block;background: rgba(238, 238, 238, .5);height:550px; width:auto\" src=\"images/1.6/transformers-1333083_1920.jpg\">"
   ]
  },
  {
   "cell_type": "markdown",
   "metadata": {
    "collapsed": true,
    "slideshow": {
     "slide_type": "subslide"
    }
   },
   "source": [
    "### Filter\n",
    "<img style=\"margin:0px auto;display:block;background: rgba(238, 238, 238, .5);\" src=\"images/1.6/filter.png\">\n",
    "##### def filter(f: (T) ⇒ Boolean): RDD[T] \n",
    "##### Return a new RDD containing only the elements that satisfy a predicate."
   ]
  },
  {
   "cell_type": "code",
   "execution_count": 47,
   "metadata": {
    "collapsed": false,
    "slideshow": {
     "slide_type": "fragment"
    }
   },
   "outputs": [
    {
     "data": {
      "text/plain": [
       "Array(1, 2, 3, 4, 5, 6, 7, 8, 9, 10, 11, 12, 13, 14, 15, 16, 17, 18, 19, 20)"
      ]
     },
     "execution_count": 47,
     "metadata": {},
     "output_type": "execute_result"
    }
   ],
   "source": [
    "val exampleRDD = sc.parallelize(1 to 20)\n",
    "exampleRDD.collect"
   ]
  },
  {
   "cell_type": "code",
   "execution_count": 115,
   "metadata": {
    "collapsed": false,
    "slideshow": {
     "slide_type": "fragment"
    }
   },
   "outputs": [
    {
     "data": {
      "text/plain": [
       "Array(2, 4, 6, 8, 10, 12, 14, 16, 18, 20)"
      ]
     },
     "execution_count": 115,
     "metadata": {},
     "output_type": "execute_result"
    }
   ],
   "source": [
    "val filteredRDD = exampleRDD.filter(value => value % 2 == 0)\n",
    "filteredRDD.collect"
   ]
  },
  {
   "cell_type": "markdown",
   "metadata": {
    "slideshow": {
     "slide_type": "subslide"
    }
   },
   "source": [
    "### Set Operations"
   ]
  },
  {
   "cell_type": "markdown",
   "metadata": {
    "slideshow": {
     "slide_type": "subslide"
    }
   },
   "source": [
    "### Union\n",
    "<img style=\"margin:0px auto;display:block;background: rgba(238, 238, 238, .5);height:250px; width:auto\" src=\"images/1.6/Venn0111.svg\">\n",
    "##### def union(other: RDD[T]): RDD[T] \n",
    "##### Return the union of this RDD and another one."
   ]
  },
  {
   "cell_type": "code",
   "execution_count": 50,
   "metadata": {
    "collapsed": false,
    "slideshow": {
     "slide_type": "fragment"
    }
   },
   "outputs": [
    {
     "data": {
      "text/plain": [
       "Array(1, 2, 3, 4, 5, 6, 7, 8, 9, 10)"
      ]
     },
     "execution_count": 50,
     "metadata": {},
     "output_type": "execute_result"
    }
   ],
   "source": [
    "val a = sc.parallelize(1 to 10)\n",
    "a.collect"
   ]
  },
  {
   "cell_type": "code",
   "execution_count": 51,
   "metadata": {
    "collapsed": false,
    "slideshow": {
     "slide_type": "fragment"
    }
   },
   "outputs": [
    {
     "data": {
      "text/plain": [
       "Array(11, 12, 13, 14, 15, 16, 17, 18, 19, 20)"
      ]
     },
     "execution_count": 51,
     "metadata": {},
     "output_type": "execute_result"
    }
   ],
   "source": [
    "val b = sc.parallelize(11 to 20)\n",
    "b.collect"
   ]
  },
  {
   "cell_type": "code",
   "execution_count": 52,
   "metadata": {
    "collapsed": false,
    "slideshow": {
     "slide_type": "fragment"
    }
   },
   "outputs": [
    {
     "data": {
      "text/plain": [
       "Array(1, 2, 3, 4, 5, 6, 7, 8, 9, 10, 11, 12, 13, 14, 15, 16, 17, 18, 19, 20)"
      ]
     },
     "execution_count": 52,
     "metadata": {},
     "output_type": "execute_result"
    }
   ],
   "source": [
    "val aUnionB = a.union(b)\n",
    "aUnionB.collect"
   ]
  },
  {
   "cell_type": "markdown",
   "metadata": {
    "slideshow": {
     "slide_type": "subslide"
    }
   },
   "source": [
    "### Intersection\n",
    "<img style=\"margin:0px auto;display:block;background: rgba(238, 238, 238, .5);height:250px; width:auto\" src=\"images/1.6/Venn0001.svg\">\n",
    "##### def intersection(other: RDD[T]): RDD[T] \n",
    "##### Return the intersection of this RDD and another one."
   ]
  },
  {
   "cell_type": "code",
   "execution_count": 53,
   "metadata": {
    "collapsed": false,
    "slideshow": {
     "slide_type": "fragment"
    }
   },
   "outputs": [
    {
     "data": {
      "text/plain": [
       "Array(1, 2, 3, 4, 5, 6, 7, 8, 9, 10)"
      ]
     },
     "execution_count": 53,
     "metadata": {},
     "output_type": "execute_result"
    }
   ],
   "source": [
    "val a = sc.parallelize(1 to 10)\n",
    "a.collect"
   ]
  },
  {
   "cell_type": "code",
   "execution_count": 54,
   "metadata": {
    "collapsed": false,
    "slideshow": {
     "slide_type": "fragment"
    }
   },
   "outputs": [
    {
     "data": {
      "text/plain": [
       "Array(1, 3, 5, 7, 9)"
      ]
     },
     "execution_count": 54,
     "metadata": {},
     "output_type": "execute_result"
    }
   ],
   "source": [
    "val b = sc.parallelize(1 to 10 by 2)\n",
    "b.collect"
   ]
  },
  {
   "cell_type": "code",
   "execution_count": 55,
   "metadata": {
    "collapsed": false,
    "slideshow": {
     "slide_type": "fragment"
    }
   },
   "outputs": [
    {
     "data": {
      "text/plain": [
       "Array(1, 9, 5, 3, 7)"
      ]
     },
     "execution_count": 55,
     "metadata": {},
     "output_type": "execute_result"
    }
   ],
   "source": [
    "val aIntersectB = a.intersection(b)\n",
    "aIntersectB.collect"
   ]
  },
  {
   "cell_type": "markdown",
   "metadata": {
    "slideshow": {
     "slide_type": "subslide"
    }
   },
   "source": [
    "### Subtraction\n",
    "<img style=\"margin:0px auto;display:block;background: rgba(238, 238, 238, .5);height:250px; width:auto\" src=\"images/1.6/Venn0010.svg\">\n",
    "##### def subtract(other: RDD[T]): RDD[T] \n",
    "##### Return an RDD with the elements from <b>this</b> that are not in <b>other</b>."
   ]
  },
  {
   "cell_type": "code",
   "execution_count": 56,
   "metadata": {
    "collapsed": false,
    "slideshow": {
     "slide_type": "fragment"
    }
   },
   "outputs": [
    {
     "data": {
      "text/plain": [
       "Array(1, 2, 3, 4, 5, 6, 7, 8, 9, 10)"
      ]
     },
     "execution_count": 56,
     "metadata": {},
     "output_type": "execute_result"
    }
   ],
   "source": [
    "val a = sc.parallelize(1 to 10)\n",
    "a.collect"
   ]
  },
  {
   "cell_type": "code",
   "execution_count": 67,
   "metadata": {
    "collapsed": false,
    "slideshow": {
     "slide_type": "fragment"
    }
   },
   "outputs": [
    {
     "data": {
      "text/plain": [
       "Array(1, 2, 3, 4, 5, 6, 7, 8, 9, 10, 11, 12, 13, 14, 15, 16, 17, 18, 19, 20)"
      ]
     },
     "execution_count": 67,
     "metadata": {},
     "output_type": "execute_result"
    }
   ],
   "source": [
    "val b = sc.parallelize(1 to 20)\n",
    "b.collect"
   ]
  },
  {
   "cell_type": "code",
   "execution_count": 58,
   "metadata": {
    "collapsed": false,
    "slideshow": {
     "slide_type": "fragment"
    }
   },
   "outputs": [
    {
     "data": {
      "text/plain": [
       "Array(16, 20, 12, 17, 13, 18, 14, 19, 11, 15)"
      ]
     },
     "execution_count": 58,
     "metadata": {},
     "output_type": "execute_result"
    }
   ],
   "source": [
    "val bSubtractA = b.subtract(a)\n",
    "bSubtractA.collect"
   ]
  },
  {
   "cell_type": "markdown",
   "metadata": {
    "slideshow": {
     "slide_type": "subslide"
    }
   },
   "source": [
    "### Map\n",
    "<img style=\"margin:0px auto;display:block;background: rgba(238, 238, 238, .5);\" src=\"images/1.6/map.png\">\n",
    "##### def map[U]\\(f: (T) ⇒ U)(implicit arg0: ClassTag[U]): RDD[U]\n",
    "##### Return a new RDD by applying a function to all elements of this RDD."
   ]
  },
  {
   "cell_type": "code",
   "execution_count": 116,
   "metadata": {
    "collapsed": false,
    "slideshow": {
     "slide_type": "fragment"
    }
   },
   "outputs": [
    {
     "data": {
      "text/plain": [
       "Array(guests, first the vicomte and then the abbé, as peculiarly choice, morsels. The group about Mortemart immediately began discussing the)"
      ]
     },
     "execution_count": 116,
     "metadata": {},
     "output_type": "execute_result"
    }
   ],
   "source": [
    "val text = sc.textFile(\"file:///data/war_and_peace.txt\")\n",
    "text.collect.slice(1200,1202)"
   ]
  },
  {
   "cell_type": "code",
   "execution_count": 117,
   "metadata": {
    "collapsed": false,
    "slideshow": {
     "slide_type": "fragment"
    }
   },
   "outputs": [
    {
     "data": {
      "text/plain": [
       "Array(GUESTS, FIRST THE VICOMTE AND THEN THE ABBÉ, AS PECULIARLY CHOICE, MORSELS. THE GROUP ABOUT MORTEMART IMMEDIATELY BEGAN DISCUSSING THE)"
      ]
     },
     "execution_count": 117,
     "metadata": {},
     "output_type": "execute_result"
    }
   ],
   "source": [
    "val upperText = text.map(line => line.toUpperCase())\n",
    "upperText.collect.slice(1200,1202)"
   ]
  },
  {
   "cell_type": "markdown",
   "metadata": {
    "slideshow": {
     "slide_type": "subslide"
    }
   },
   "source": [
    "### Flat Map\n",
    "<img style=\"margin:0px auto;display:block;background: rgba(238, 238, 238, .5);\" src=\"images/1.6/flatMap.png\">\n",
    "##### def flatMap\\[U](f: (T) ⇒ TraversableOnce[U])(implicit arg0: ClassTag[U]): RDD[U]\n",
    "##### Return a new RDD by first applying a function to all elements of this RDD, and then flattening the results."
   ]
  },
  {
   "cell_type": "code",
   "execution_count": 119,
   "metadata": {
    "collapsed": false,
    "slideshow": {
     "slide_type": "fragment"
    }
   },
   "outputs": [
    {
     "data": {
      "text/plain": [
       "Array(personally,\", whispered, Anna, Pávlovna, to, one, of, the, guests., \"The, vicomte, is, a, wonderful, raconteur,\", said, she, to, another., \"How, evidently, he, belongs, to, the)"
      ]
     },
     "execution_count": 119,
     "metadata": {},
     "output_type": "execute_result"
    }
   ],
   "source": [
    "val words = text.flatMap(line => line.split(\" \"))\n",
    "words.collect().slice(5000,5025)"
   ]
  },
  {
   "cell_type": "markdown",
   "metadata": {
    "slideshow": {
     "slide_type": "subslide"
    }
   },
   "source": [
    "## Pair RDDs\n",
    "<img style=\"margin:0px auto;display:block;background: rgba(238, 238, 238, .5);height:450px; width:auto\" src=\"images/1.6/pair_rdd.png\">"
   ]
  },
  {
   "cell_type": "markdown",
   "metadata": {
    "slideshow": {
     "slide_type": "subslide"
    }
   },
   "source": [
    "### Reduce By Key\n",
    "<img style=\"margin:0px auto;display:block;background: rgba(238, 238, 238, .5);\" src=\"images/1.6/reduce_by_key.png\">\n",
    "##### def reduceByKey(func: (V, V) ⇒ V): RDD[(K, V)] \n",
    "##### Merge the values for each key using an associative and commutative reduce function."
   ]
  },
  {
   "cell_type": "code",
   "execution_count": 1,
   "metadata": {
    "collapsed": false,
    "slideshow": {
     "slide_type": "fragment"
    }
   },
   "outputs": [
    {
     "data": {
      "text/plain": [
       "Array((personally,\",1), (whispered,1), (Anna,1), (Pávlovna,1), (to,1), (one,1), (of,1), (the,1), (guests.,1), (\"The,1), (vicomte,1), (is,1), (a,1), (wonderful,1), (raconteur,\",1), (said,1), (she,1), (to,1), (another.,1), (\"How,1), (evidently,1), (he,1), (belongs,1), (to,1), (the,1))"
      ]
     },
     "execution_count": 1,
     "metadata": {},
     "output_type": "execute_result"
    }
   ],
   "source": [
    "val text = sc.textFile(\"file:///data/war_and_peace.txt\")\n",
    "val words = text.flatMap(line => line.split(\" \"))\n",
    "val wordsPairs = words.map(word => (word,1))\n",
    "wordsPairs.collect.slice(5000,5025)"
   ]
  },
  {
   "cell_type": "code",
   "execution_count": 2,
   "metadata": {
    "collapsed": false,
    "slideshow": {
     "slide_type": "fragment"
    }
   },
   "outputs": [
    {
     "data": {
      "text/plain": [
       "Array((service;,1), (populated,1), (moved;,1), (guided,,1), (Tsarevo-Zaymishche,2), (seriously;,1), (Dukes,1), (Arakcheev,,15), (Dnieper—which,1), (endless,10), (profundity,4), (Postulating,1), (diffused,,1), (safely.,1), (Kamenka,,1), (realize,30), (Already,,1), (marvels.\",1), (crown—an,1), (colloquies,1), (booked,1), (welfare,,2), (eyebrows,22), (expiring,,1), (be),,2))"
      ]
     },
     "execution_count": 2,
     "metadata": {},
     "output_type": "execute_result"
    }
   ],
   "source": [
    "val counts = wordsPairs.reduceByKey((value1,value2) => value1 + value2)\n",
    "counts.collect.slice(5000,5025)"
   ]
  },
  {
   "cell_type": "markdown",
   "metadata": {
    "slideshow": {
     "slide_type": "slide"
    }
   },
   "source": [
    "## Actions \n",
    "<img style=\"margin:0px auto;display:block;background: rgba(238, 238, 238, .5);height:550px; width:auto\" src=\"images/1.6/action.jpg\">"
   ]
  },
  {
   "cell_type": "markdown",
   "metadata": {
    "slideshow": {
     "slide_type": "subslide"
    }
   },
   "source": [
    "### Count\n",
    "<img style=\"margin:0px auto;display:block;background: rgba(238, 238, 238, .5);\" src=\"images/1.6/count.png\">\n",
    "##### def count(): Long\n",
    "##### Return the number of elements in the RDD."
   ]
  },
  {
   "cell_type": "code",
   "execution_count": 95,
   "metadata": {
    "collapsed": false,
    "slideshow": {
     "slide_type": "fragment"
    }
   },
   "outputs": [
    {
     "data": {
      "text/plain": [
       "10"
      ]
     },
     "execution_count": 95,
     "metadata": {},
     "output_type": "execute_result"
    }
   ],
   "source": [
    "val a = sc.parallelize(1 to 10)\n",
    "a.count"
   ]
  },
  {
   "cell_type": "markdown",
   "metadata": {
    "slideshow": {
     "slide_type": "subslide"
    }
   },
   "source": [
    "### Collect\n",
    "<img style=\"margin:0px auto;display:block;background: rgba(238, 238, 238, .5);\" src=\"images/1.6/collect.png\">\n",
    "##### def collect(): Array[T]\n",
    "##### Return an array that contains all of the elements in this RDD."
   ]
  },
  {
   "cell_type": "code",
   "execution_count": 96,
   "metadata": {
    "collapsed": false,
    "slideshow": {
     "slide_type": "fragment"
    }
   },
   "outputs": [
    {
     "data": {
      "text/plain": [
       "Array(1, 2, 3, 4, 5, 6, 7, 8, 9, 10)"
      ]
     },
     "execution_count": 96,
     "metadata": {},
     "output_type": "execute_result"
    }
   ],
   "source": [
    "val a = sc.parallelize(1 to 10)\n",
    "a.collect"
   ]
  },
  {
   "cell_type": "markdown",
   "metadata": {
    "slideshow": {
     "slide_type": "subslide"
    }
   },
   "source": [
    "### Take\n",
    "<img style=\"margin:0px auto;display:block;background: rgba(238, 238, 238, .5);\" src=\"images/1.6/take.png\">\n",
    "##### def take(num: Int): Array[T]\n",
    "##### Take the first num elements of the RDD."
   ]
  },
  {
   "cell_type": "code",
   "execution_count": 97,
   "metadata": {
    "collapsed": false,
    "slideshow": {
     "slide_type": "fragment"
    }
   },
   "outputs": [
    {
     "data": {
      "text/plain": [
       "Array(1, 2)"
      ]
     },
     "execution_count": 97,
     "metadata": {},
     "output_type": "execute_result"
    }
   ],
   "source": [
    "val a = sc.parallelize(1 to 10)\n",
    "a.take(2)"
   ]
  },
  {
   "cell_type": "markdown",
   "metadata": {
    "slideshow": {
     "slide_type": "subslide"
    }
   },
   "source": [
    "### Take Sample\n",
    "<img style=\"margin:0px auto;display:block;background: rgba(238, 238, 238, .5);\" src=\"images/1.6/take_sample2.png\">\n",
    "##### def takeSample(withReplacement: Boolean, num: Int, seed: Long = Utils.random.nextLong): Array[T]\n",
    "##### Return a fixed-size sampled subset of this RDD in an array "
   ]
  },
  {
   "cell_type": "code",
   "execution_count": 103,
   "metadata": {
    "collapsed": false,
    "slideshow": {
     "slide_type": "fragment"
    }
   },
   "outputs": [
    {
     "data": {
      "text/plain": [
       "Array(6, 8)"
      ]
     },
     "execution_count": 103,
     "metadata": {},
     "output_type": "execute_result"
    }
   ],
   "source": [
    "val a = sc.parallelize(1 to 10)\n",
    "a.takeSample(false,2)"
   ]
  },
  {
   "cell_type": "markdown",
   "metadata": {
    "slideshow": {
     "slide_type": "subslide"
    }
   },
   "source": [
    "### Reduce\n",
    "<img style=\"margin:0px auto;display:block;background: rgba(238, 238, 238, .5);\" src=\"images/1.6/reduce.png\">\n",
    "##### def reduce(f: (T, T) ⇒ T): T\n",
    "##### Reduces the elements of this RDD using the specified commutative and associative binary operator."
   ]
  },
  {
   "cell_type": "code",
   "execution_count": 108,
   "metadata": {
    "collapsed": false,
    "slideshow": {
     "slide_type": "fragment"
    }
   },
   "outputs": [
    {
     "data": {
      "text/plain": [
       "5050"
      ]
     },
     "execution_count": 108,
     "metadata": {},
     "output_type": "execute_result"
    }
   ],
   "source": [
    "val a = sc.parallelize(1 to 100)\n",
    "a.reduce((v1,v2) => v1 + v2)"
   ]
  },
  {
   "cell_type": "markdown",
   "metadata": {
    "slideshow": {
     "slide_type": "slide"
    }
   },
   "source": [
    "## RDD Save Actions"
   ]
  },
  {
   "cell_type": "markdown",
   "metadata": {
    "slideshow": {
     "slide_type": "skip"
    }
   },
   "source": [
    "Save an RDD to disk as a text file, one element per line.  Note that is this an output directory, not a file name.\n",
    "Each individual partition will be written to a separate file"
   ]
  },
  {
   "cell_type": "code",
   "execution_count": 113,
   "metadata": {
    "collapsed": false,
    "slideshow": {
     "slide_type": "fragment"
    }
   },
   "outputs": [],
   "source": [
    "counts.saveAsTextFile(\"file:///data/word_counts\")"
   ]
  },
  {
   "cell_type": "markdown",
   "metadata": {
    "slideshow": {
     "slide_type": "skip"
    }
   },
   "source": [
    "Save an RDD to disk using Java serialization.  Also specifies an output directory, with individual files for each partition"
   ]
  },
  {
   "cell_type": "code",
   "execution_count": 114,
   "metadata": {
    "collapsed": false,
    "slideshow": {
     "slide_type": "fragment"
    }
   },
   "outputs": [],
   "source": [
    "counts.saveAsObjectFile(\"file:///data/word_counts_binary\")"
   ]
  },
  {
   "cell_type": "markdown",
   "metadata": {
    "slideshow": {
     "slide_type": "slide"
    }
   },
   "source": [
    "## Summary"
   ]
  },
  {
   "cell_type": "markdown",
   "metadata": {
    "slideshow": {
     "slide_type": "fragment"
    }
   },
   "source": [
    "##### http://spark.apache.org/docs/latest/api/scala/index.html#org.apache.spark.rdd.RDD>\n",
    "##### http://spark.apache.org/docs/latest/api/python/pyspark.html#pyspark.RDD\n",
    "##### http://spark.apache.org/docs/latest/api/java/index.html?org/apache/spark/api/java/JavaRDD.html"
   ]
  }
 ],
 "metadata": {
  "anaconda-cloud": {},
  "celltoolbar": "Slideshow",
  "kernelspec": {
   "display_name": "Apache Toree - Scala",
   "language": "scala",
   "name": "apache_toree_scala"
  },
  "language_info": {
   "name": "scala",
   "version": "2.11.8"
  }
 },
 "nbformat": 4,
 "nbformat_minor": 0
}
